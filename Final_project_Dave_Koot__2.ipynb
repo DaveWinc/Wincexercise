{
  "nbformat": 4,
  "nbformat_minor": 0,
  "metadata": {
    "colab": {
      "provenance": [],
      "mount_file_id": "17Daaf-ypHIWzbpqb0whmnwQJ-0x-6N23",
      "authorship_tag": "ABX9TyPcSVlKFyByoCy2GdUy0q2b",
      "include_colab_link": true
    },
    "kernelspec": {
      "name": "python3",
      "display_name": "Python 3"
    },
    "language_info": {
      "name": "python"
    }
  },
  "cells": [
    {
      "cell_type": "markdown",
      "metadata": {
        "id": "view-in-github",
        "colab_type": "text"
      },
      "source": [
        "<a href=\"https://colab.research.google.com/github/DaveWinc/Wincexercise/blob/main/Final_project_Dave_Koot__2.ipynb\" target=\"_parent\"><img src=\"https://colab.research.google.com/assets/colab-badge.svg\" alt=\"Open In Colab\"/></a>"
      ]
    },
    {
      "cell_type": "markdown",
      "source": [
        "**#Which countries are making the biggest strides in decreasing CO2 output?**\n",
        "\n",
        "You'll need to find the relative CO2 output for each country to be able to calculate this. But countries can have growing and shrinking populations too, so it's probably a good idea to take this into account as well.\n",
        "\n"
      ],
      "metadata": {
        "id": "oWzuwdRBHxiP"
      }
    },
    {
      "cell_type": "code",
      "source": [
        "#Connecting with google drive\n",
        "from google.colab import drive\n",
        "drive.mount('/content/drive')"
      ],
      "metadata": {
        "colab": {
          "base_uri": "https://localhost:8080/"
        },
        "id": "HYyUJ_2EJXzu",
        "outputId": "7333cddb-8e51-4a48-c7d3-f2a7d0934eb3"
      },
      "execution_count": 2,
      "outputs": [
        {
          "output_type": "stream",
          "name": "stdout",
          "text": [
            "Drive already mounted at /content/drive; to attempt to forcibly remount, call drive.mount(\"/content/drive\", force_remount=True).\n"
          ]
        }
      ]
    },
    {
      "cell_type": "code",
      "execution_count": 1,
      "metadata": {
        "id": "UVmtIVMEHWTA"
      },
      "outputs": [],
      "source": [
        "#importing modules\n",
        "\n",
        "import pandas as pd\n",
        "import numpy as np\n",
        "import matplotlib.pyplot as plt"
      ]
    },
    {
      "cell_type": "code",
      "source": [
        "#Creating landcode filter\n",
        "\n",
        "#Reading html for landcodes\n",
        "tables = pd.read_html('https://www.iban.com/country-codes')\n",
        "\n",
        "df_land = tables[0]\n",
        "\n",
        "df_code = df_land.drop(['Alpha-2 code', 'Numeric'], axis=1)\n",
        "df_code.rename(columns={'Alpha-3 code':'Code'}, inplace=True)\n",
        "\n",
        "#creating list with landcodes\n",
        "code_unique = df_code['Code'].unique()"
      ],
      "metadata": {
        "id": "WQiRXUjVbH0k"
      },
      "execution_count": 15,
      "outputs": []
    },
    {
      "cell_type": "code",
      "source": [
        "#Creating usable table\n",
        "\n",
        "#reading csv\n",
        "df_ = pd.read_csv('/content/drive/MyDrive/Final Winc project/files for largest predictor/Co2-emissions-per-capita.csv')\n",
        "\n",
        "#filtering for landcodes\n",
        "df_cap = df_[df_['Code'].isin(code_unique)]\n",
        "#display(df_cap)\n",
        "\n",
        "#Getting max Co2 values\n",
        "idx = df_cap.groupby('Entity')['Annual CO₂ emissions (per capita)'].idxmax()\n",
        "df_max_CO2= df_cap.loc[idx]\n",
        "df_max_CO2.rename(columns={'Annual CO₂ emissions (per capita)':'CO2 max'},inplace=True)\n",
        "#display(df_max_CO2)\n",
        "\n",
        "#Getting 2022 CO2 values\n",
        "df_lastyear = df_cap[df_cap['Year'] == 2022]\n",
        "df_2022 = df_lastyear.copy()\n",
        "df_2022.rename(columns={'Annual CO₂ emissions (per capita)':'CO2 emission 2022'},inplace=True)\n",
        "#display(df_2022)\n",
        "\n",
        "#merging df_max_CO2 and df_2022\n",
        "df_merge = pd.merge(df_max_CO2, df_2022, on='Code')\n",
        "df_merge.rename(columns={'Entity_x':'Country', 'Year_x':'Year of max', 'Year_y':'Year final'},inplace=True)\n",
        "df_merge.drop('Entity_y', axis=1, inplace=True)\n",
        "\n",
        "#Creating column with percentual increase\n",
        "df_merge['max ratio'] = (df_merge['CO2 emission 2022']-df_merge['CO2 max'])/df_merge['CO2 max']\n",
        "\n",
        "#sorting data\n",
        "df_merge.sort_values('max ratio', ascending=True, inplace=True)\n",
        "display(df_merge)\n"
      ],
      "metadata": {
        "id": "CrQcL82qS0lQ"
      },
      "execution_count": null,
      "outputs": []
    },
    {
      "cell_type": "code",
      "source": [
        "#Creating figure\n",
        "\n",
        "#getting top 5 for figure\n",
        "top_5_strides = df_merge.head(5)\n",
        "\n",
        "#Creating figure\n",
        "plt.figure(figsize=[3,4])\n",
        "\n",
        "plt.bar(top_5_strides['Country'], top_5_strides['max ratio'])\n",
        "plt.xlabel('Country')\n",
        "plt.ylabel('Percentual decrease')\n",
        "plt.title('Biggest strides on CO2 since 1949')\n",
        "plt.grid(axis='y')\n",
        "plt.tick_params(axis='x', rotation=90)\n",
        "\n",
        "plt.show()\n",
        "\n"
      ],
      "metadata": {
        "colab": {
          "base_uri": "https://localhost:8080/",
          "height": 575
        },
        "id": "EBSJI7rOpiwn",
        "outputId": "9e55a813-1300-4853-f6f5-6c8297eb2cae"
      },
      "execution_count": 39,
      "outputs": [
        {
          "output_type": "display_data",
          "data": {
            "text/plain": [
              "<Figure size 300x400 with 1 Axes>"
            ],
            "image/png": "[encoded data removed]"
          },
          "metadata": {}
        }
      ]
    }
  ]
}